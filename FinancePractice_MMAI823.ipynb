{
 "cells": [
  {
   "cell_type": "code",
   "execution_count": 140,
   "metadata": {},
   "outputs": [],
   "source": [
    "%matplotlib inline\n",
    "import numpy as np\n",
    "import pandas as pd\n",
    "from sklearn.model_selection import train_test_split\n",
    "from sklearn import preprocessing\n",
    "from sklearn.ensemble import RandomForestClassifier\n",
    "from sklearn import svm\n",
    "import matplotlib.pyplot as plt\n",
    "from imblearn.under_sampling import NearMiss\n",
    "from collections import Counter\n",
    "from sklearn.model_selection import KFold\n"
   ]
  },
  {
   "cell_type": "code",
   "execution_count": 141,
   "metadata": {},
   "outputs": [],
   "source": [
    "import pandas as pd\n",
    "import sklearn\n",
    "import scipy\n",
    "import matplotlib.pyplot as plt\n",
    "import seaborn as sns\n",
    "from sklearn.metrics import classification_report,accuracy_score\n",
    "from sklearn.ensemble import IsolationForest\n",
    "from sklearn.neighbors import LocalOutlierFactor\n",
    "from sklearn.svm import OneClassSVM\n",
    "from pylab import rcParams\n",
    "rcParams['figure.figsize'] = 14, 8\n",
    "RANDOM_SEED = 42\n",
    "LABELS = [\"Normal\", \"BANKRUPT\"]"
   ]
  },
  {
   "cell_type": "code",
   "execution_count": 142,
   "metadata": {
    "scrolled": true
   },
   "outputs": [
    {
     "data": {
      "text/html": [
       "<div>\n",
       "<style scoped>\n",
       "    .dataframe tbody tr th:only-of-type {\n",
       "        vertical-align: middle;\n",
       "    }\n",
       "\n",
       "    .dataframe tbody tr th {\n",
       "        vertical-align: top;\n",
       "    }\n",
       "\n",
       "    .dataframe thead th {\n",
       "        text-align: right;\n",
       "    }\n",
       "</style>\n",
       "<table border=\"1\" class=\"dataframe\">\n",
       "  <thead>\n",
       "    <tr style=\"text-align: right;\">\n",
       "      <th></th>\n",
       "      <th>Unnamed: 0</th>\n",
       "      <th>Tobin's Q</th>\n",
       "      <th>EPS</th>\n",
       "      <th>Liquidity</th>\n",
       "      <th>Profitability</th>\n",
       "      <th>Productivity</th>\n",
       "      <th>Leverage Ratio</th>\n",
       "      <th>Asset Turnover</th>\n",
       "      <th>Operational Margin</th>\n",
       "      <th>Return on Equity</th>\n",
       "      <th>Market Book Ratio</th>\n",
       "      <th>Assets Growth</th>\n",
       "      <th>Sales Growth</th>\n",
       "      <th>Employee Growth</th>\n",
       "      <th>BK</th>\n",
       "    </tr>\n",
       "  </thead>\n",
       "  <tbody>\n",
       "    <tr>\n",
       "      <th>0</th>\n",
       "      <td>1</td>\n",
       "      <td>-0.943577</td>\n",
       "      <td>0.000054</td>\n",
       "      <td>0.368583</td>\n",
       "      <td>0.137898</td>\n",
       "      <td>0.040532</td>\n",
       "      <td>0.009772</td>\n",
       "      <td>0.538394</td>\n",
       "      <td>0.059158</td>\n",
       "      <td>0.003440</td>\n",
       "      <td>-0.022715</td>\n",
       "      <td>0.195206</td>\n",
       "      <td>-0.101516</td>\n",
       "      <td>0.055176</td>\n",
       "      <td>0</td>\n",
       "    </tr>\n",
       "    <tr>\n",
       "      <th>1</th>\n",
       "      <td>2</td>\n",
       "      <td>-1.170303</td>\n",
       "      <td>-0.000979</td>\n",
       "      <td>0.232118</td>\n",
       "      <td>0.129773</td>\n",
       "      <td>0.037908</td>\n",
       "      <td>0.007736</td>\n",
       "      <td>0.505855</td>\n",
       "      <td>0.057785</td>\n",
       "      <td>0.003145</td>\n",
       "      <td>-0.022708</td>\n",
       "      <td>0.677631</td>\n",
       "      <td>0.167686</td>\n",
       "      <td>1.208515</td>\n",
       "      <td>0</td>\n",
       "    </tr>\n",
       "    <tr>\n",
       "      <th>2</th>\n",
       "      <td>3</td>\n",
       "      <td>-0.675053</td>\n",
       "      <td>-0.000610</td>\n",
       "      <td>0.102753</td>\n",
       "      <td>0.131109</td>\n",
       "      <td>0.037908</td>\n",
       "      <td>0.006040</td>\n",
       "      <td>0.373341</td>\n",
       "      <td>0.058470</td>\n",
       "      <td>0.003178</td>\n",
       "      <td>-0.022577</td>\n",
       "      <td>-0.188691</td>\n",
       "      <td>-0.235070</td>\n",
       "      <td>-0.395276</td>\n",
       "      <td>0</td>\n",
       "    </tr>\n",
       "    <tr>\n",
       "      <th>3</th>\n",
       "      <td>4</td>\n",
       "      <td>-0.473397</td>\n",
       "      <td>-0.000573</td>\n",
       "      <td>0.549397</td>\n",
       "      <td>0.129773</td>\n",
       "      <td>0.037908</td>\n",
       "      <td>0.001493</td>\n",
       "      <td>0.297050</td>\n",
       "      <td>0.058470</td>\n",
       "      <td>0.003145</td>\n",
       "      <td>-0.022412</td>\n",
       "      <td>0.426924</td>\n",
       "      <td>0.019069</td>\n",
       "      <td>0.093287</td>\n",
       "      <td>0</td>\n",
       "    </tr>\n",
       "    <tr>\n",
       "      <th>4</th>\n",
       "      <td>5</td>\n",
       "      <td>-0.610216</td>\n",
       "      <td>0.000141</td>\n",
       "      <td>0.403827</td>\n",
       "      <td>0.133804</td>\n",
       "      <td>0.039875</td>\n",
       "      <td>0.002573</td>\n",
       "      <td>0.390119</td>\n",
       "      <td>0.059848</td>\n",
       "      <td>0.003276</td>\n",
       "      <td>-0.022454</td>\n",
       "      <td>0.209474</td>\n",
       "      <td>0.090797</td>\n",
       "      <td>0.162478</td>\n",
       "      <td>0</td>\n",
       "    </tr>\n",
       "  </tbody>\n",
       "</table>\n",
       "</div>"
      ],
      "text/plain": [
       "   Unnamed: 0  Tobin's Q       EPS  Liquidity  Profitability  Productivity  \\\n",
       "0           1  -0.943577  0.000054   0.368583       0.137898      0.040532   \n",
       "1           2  -1.170303 -0.000979   0.232118       0.129773      0.037908   \n",
       "2           3  -0.675053 -0.000610   0.102753       0.131109      0.037908   \n",
       "3           4  -0.473397 -0.000573   0.549397       0.129773      0.037908   \n",
       "4           5  -0.610216  0.000141   0.403827       0.133804      0.039875   \n",
       "\n",
       "   Leverage Ratio  Asset Turnover  Operational Margin  Return on Equity  \\\n",
       "0        0.009772        0.538394            0.059158          0.003440   \n",
       "1        0.007736        0.505855            0.057785          0.003145   \n",
       "2        0.006040        0.373341            0.058470          0.003178   \n",
       "3        0.001493        0.297050            0.058470          0.003145   \n",
       "4        0.002573        0.390119            0.059848          0.003276   \n",
       "\n",
       "   Market Book Ratio  Assets Growth  Sales Growth  Employee Growth  BK  \n",
       "0          -0.022715       0.195206     -0.101516         0.055176   0  \n",
       "1          -0.022708       0.677631      0.167686         1.208515   0  \n",
       "2          -0.022577      -0.188691     -0.235070        -0.395276   0  \n",
       "3          -0.022412       0.426924      0.019069         0.093287   0  \n",
       "4          -0.022454       0.209474      0.090797         0.162478   0  "
      ]
     },
     "execution_count": 142,
     "metadata": {},
     "output_type": "execute_result"
    }
   ],
   "source": [
    "cleaned_df=pd.read_csv(\"/Users/monalisa/Downloads/cleaned_data.csv\")\n",
    "cleaned_df.head()"
   ]
  },
  {
   "cell_type": "code",
   "execution_count": 143,
   "metadata": {},
   "outputs": [
    {
     "name": "stdout",
     "output_type": "stream",
     "text": [
      "<class 'pandas.core.frame.DataFrame'>\n",
      "RangeIndex: 85972 entries, 0 to 85971\n",
      "Data columns (total 15 columns):\n",
      "Unnamed: 0            85972 non-null int64\n",
      "Tobin's Q             85972 non-null float64\n",
      "EPS                   85972 non-null float64\n",
      "Liquidity             85972 non-null float64\n",
      "Profitability         85972 non-null float64\n",
      "Productivity          85972 non-null float64\n",
      "Leverage Ratio        85972 non-null float64\n",
      "Asset Turnover        85972 non-null float64\n",
      "Operational Margin    85972 non-null float64\n",
      "Return on Equity      85972 non-null float64\n",
      "Market Book Ratio     85972 non-null float64\n",
      "Assets Growth         85972 non-null float64\n",
      "Sales Growth          85972 non-null float64\n",
      "Employee Growth       85972 non-null float64\n",
      "BK                    85972 non-null int64\n",
      "dtypes: float64(13), int64(2)\n",
      "memory usage: 9.8 MB\n"
     ]
    }
   ],
   "source": [
    "cleaned_df.info()"
   ]
  },
  {
   "cell_type": "code",
   "execution_count": 144,
   "metadata": {},
   "outputs": [],
   "source": [
    "# dropping passed values \n",
    "cleaned_df.drop([\"Unnamed: 0\"], axis = 1, inplace = True)\n"
   ]
  },
  {
   "cell_type": "code",
   "execution_count": 145,
   "metadata": {},
   "outputs": [
    {
     "data": {
      "text/plain": [
       "0"
      ]
     },
     "execution_count": 145,
     "metadata": {},
     "output_type": "execute_result"
    }
   ],
   "source": [
    "max(cleaned_df.isnull().sum())\n"
   ]
  },
  {
   "cell_type": "code",
   "execution_count": 146,
   "metadata": {},
   "outputs": [
    {
     "name": "stdout",
     "output_type": "stream",
     "text": [
      "<class 'pandas.core.frame.DataFrame'>\n",
      "RangeIndex: 85972 entries, 0 to 85971\n",
      "Data columns (total 14 columns):\n",
      "Tobin's Q             85972 non-null float64\n",
      "EPS                   85972 non-null float64\n",
      "Liquidity             85972 non-null float64\n",
      "Profitability         85972 non-null float64\n",
      "Productivity          85972 non-null float64\n",
      "Leverage Ratio        85972 non-null float64\n",
      "Asset Turnover        85972 non-null float64\n",
      "Operational Margin    85972 non-null float64\n",
      "Return on Equity      85972 non-null float64\n",
      "Market Book Ratio     85972 non-null float64\n",
      "Assets Growth         85972 non-null float64\n",
      "Sales Growth          85972 non-null float64\n",
      "Employee Growth       85972 non-null float64\n",
      "BK                    85972 non-null int64\n",
      "dtypes: float64(13), int64(1)\n",
      "memory usage: 9.2 MB\n"
     ]
    }
   ],
   "source": [
    "cleaned_df.info()"
   ]
  },
  {
   "cell_type": "code",
   "execution_count": 147,
   "metadata": {
    "scrolled": true
   },
   "outputs": [],
   "source": [
    "#Create independent and Dependent Features\n",
    "columns = cleaned_df.columns.tolist()\n",
    "# Filter the columns to remove data we do not want \n"
   ]
  },
  {
   "cell_type": "code",
   "execution_count": 148,
   "metadata": {},
   "outputs": [],
   "source": [
    "# Filter the columns to remove data we do not want \n",
    "columns = [c for c in columns if c not in [\"BK\"]]\n"
   ]
  },
  {
   "cell_type": "code",
   "execution_count": 149,
   "metadata": {},
   "outputs": [],
   "source": [
    "# Store the variable we are predicting \n",
    "target = \"BK\"\n"
   ]
  },
  {
   "cell_type": "code",
   "execution_count": 150,
   "metadata": {},
   "outputs": [],
   "source": [
    "# Define a random state \n",
    "state = np.random.RandomState(42)\n",
    "#X = data[columns]\n"
   ]
  },
  {
   "cell_type": "code",
   "execution_count": 151,
   "metadata": {},
   "outputs": [
    {
     "name": "stdout",
     "output_type": "stream",
     "text": [
      "(85972, 13)\n"
     ]
    }
   ],
   "source": [
    "X = cleaned_df[columns]\n",
    "print(X.shape)\n"
   ]
  },
  {
   "cell_type": "code",
   "execution_count": 152,
   "metadata": {
    "scrolled": true
   },
   "outputs": [
    {
     "name": "stdout",
     "output_type": "stream",
     "text": [
      "(85972,)\n"
     ]
    }
   ],
   "source": [
    "y=cleaned_df[target]\n",
    "\n",
    "print(y.shape)"
   ]
  },
  {
   "cell_type": "code",
   "execution_count": 153,
   "metadata": {
    "scrolled": true
   },
   "outputs": [],
   "source": [
    "#import numpy as np\n",
    "#X=cleaned_df.iloc[:,0:12].values\n",
    "#y=cleaned_df.iloc[:,12].values\n",
    "#print(X[:10])\n",
    "\n",
    "#print(y[:10])"
   ]
  },
  {
   "cell_type": "code",
   "execution_count": 154,
   "metadata": {},
   "outputs": [
    {
     "name": "stdout",
     "output_type": "stream",
     "text": [
      "(85972, 13)\n",
      "(85972,)\n"
     ]
    }
   ],
   "source": [
    "print(X.shape)\n",
    "print(y.shape)"
   ]
  },
  {
   "cell_type": "code",
   "execution_count": 155,
   "metadata": {},
   "outputs": [
    {
     "data": {
      "text/plain": [
       "Tobin's Q             1.000000\n",
       "Employee Growth       0.073490\n",
       "Sales Growth          0.048855\n",
       "Market Book Ratio     0.014874\n",
       "Asset Turnover        0.003250\n",
       "EPS                  -0.001719\n",
       "Leverage Ratio       -0.001876\n",
       "Assets Growth        -0.010000\n",
       "BK                   -0.010184\n",
       "Return on Equity     -0.013854\n",
       "Operational Margin   -0.069966\n",
       "Productivity         -0.110240\n",
       "Liquidity            -0.121838\n",
       "Profitability        -0.266954\n",
       "Name: Tobin's Q, dtype: float64"
      ]
     },
     "execution_count": 155,
     "metadata": {},
     "output_type": "execute_result"
    }
   ],
   "source": [
    "cleaned_df[\"Tobin's Q\"] =cleaned_df[\"Tobin's Q\"].astype('category').cat.codes\n",
    "corr_matrix = cleaned_df.corr()\n",
    "corr_matrix[\"Tobin's Q\"].sort_values(ascending=False)"
   ]
  },
  {
   "cell_type": "code",
   "execution_count": 156,
   "metadata": {},
   "outputs": [
    {
     "data": {
      "image/png": "[encoded data removed]",
      "text/plain": [
       "<Figure size 432x432 with 2 Axes>"
      ]
     },
     "metadata": {
      "needs_background": "light"
     },
     "output_type": "display_data"
    }
   ],
   "source": [
    "import matplotlib.pyplot as plt\n",
    "import seaborn as sns\n",
    "\n",
    "plt.figure(figsize= (6,6))\n",
    "sns.heatmap(abs(corr_matrix), \n",
    "            xticklabels=corr_matrix.columns.values,\n",
    "            yticklabels=corr_matrix.columns.values,\n",
    "            cmap= \"bone\")\n",
    "plt.show()"
   ]
  },
  {
   "cell_type": "code",
   "execution_count": 157,
   "metadata": {},
   "outputs": [
    {
     "data": {
      "text/plain": [
       "False"
      ]
     },
     "execution_count": 157,
     "metadata": {},
     "output_type": "execute_result"
    }
   ],
   "source": [
    "cleaned_df.isnull().values.any()"
   ]
  },
  {
   "cell_type": "code",
   "execution_count": 158,
   "metadata": {},
   "outputs": [
    {
     "data": {
      "text/plain": [
       "Text(0, 0.5, 'Frequency')"
      ]
     },
     "execution_count": 158,
     "metadata": {},
     "output_type": "execute_result"
    },
    {
     "data": {
      "image/png": "[encoded data removed]",
      "text/plain": [
       "<Figure size 1008x576 with 1 Axes>"
      ]
     },
     "metadata": {
      "needs_background": "light"
     },
     "output_type": "display_data"
    }
   ],
   "source": [
    "count_classes = pd.value_counts(cleaned_df['BK'], sort = True)\n",
    "\n",
    "count_classes.plot(kind = 'bar', rot=0)\n",
    "\n",
    "plt.title(\"Distribution\")\n",
    "\n",
    "plt.xticks(range(2), LABELS)\n",
    "\n",
    "plt.xlabel(\"BK\")\n",
    "\n",
    "plt.ylabel(\"Frequency\")"
   ]
  },
  {
   "cell_type": "code",
   "execution_count": 159,
   "metadata": {},
   "outputs": [],
   "source": [
    "\n",
    "## Get the BANKRUPT and the normal dataset \n",
    "\n",
    "BANKRUPT = cleaned_df[cleaned_df['BK']==1]\n",
    "\n",
    "Normal = cleaned_df[cleaned_df['BK']==0]"
   ]
  },
  {
   "cell_type": "code",
   "execution_count": 160,
   "metadata": {},
   "outputs": [
    {
     "name": "stdout",
     "output_type": "stream",
     "text": [
      "(554, 14) (85418, 14)\n"
     ]
    }
   ],
   "source": [
    "\n",
    "print(BANKRUPT.shape,Normal.shape)"
   ]
  },
  {
   "cell_type": "code",
   "execution_count": 161,
   "metadata": {},
   "outputs": [],
   "source": [
    "#Notes on Standard Scaler\n",
    "\n",
    "#drop the predicted column\n",
    "data = cleaned_df.drop(columns=['BK'])\n",
    "answer = cleaned_df['BK']"
   ]
  },
  {
   "cell_type": "code",
   "execution_count": 162,
   "metadata": {},
   "outputs": [],
   "source": [
    "from sklearn.preprocessing import StandardScaler\n",
    "X_break, X_test, y_break, y_test = train_test_split(data, answer, \\\n",
    "                                                    test_size=0.2, stratify=cleaned_df['BK'],\n",
    "                                                    random_state=42)\n",
    "\n",
    "#random_state generates a set kind of deck for each random state. 42 will always be the same kind of split\n",
    "X_train, X_val, y_train, y_val = train_test_split(X_break, y_break, \\\n",
    "                                                    test_size=0.25, stratify=y_break,\n",
    "                                                    random_state=42)\n",
    "# Initialize fit StandardScaler\n",
    "std_scale = StandardScaler().fit(X_train)\n",
    "\n",
    "# Scale data\n",
    "X_train_std = std_scale.transform(X_train)\n",
    "X_val_std = std_scale.transform(X_val)\n",
    "X_test_std = std_scale.transform(X_test)"
   ]
  },
  {
   "cell_type": "code",
   "execution_count": 163,
   "metadata": {},
   "outputs": [],
   "source": [
    "#X_train_under, y_train_under = RandomUnderSampler(random_state=42).fit_sample(X_train_std,y_train)\n",
    "#X_val_under, y_val_under = RandomUnderSampler(random_state=42).fit_sample(X_val_std,y_val)\n",
    "from imblearn.combine import SMOTEENN, SMOTETomek\n",
    "from imblearn.over_sampling import BorderlineSMOTE, ADASYN\n",
    "\n",
    "#X_train_under, y_train_under = SMOTEENN(random_state=42).fit_sample(X_train_std,y_train)\n",
    "#X_val_under, y_val_under = SMOTEENN(random_state=42).fit_sample(X_val_std,y_val)\n",
    "\n",
    "#X_train_under, y_train_under = SMOTETomek(random_state=42).fit_sample(X_train_std,y_train)\n",
    "#X_val_under, y_val_under = SMOTETomek(random_state=42).fit_sample(X_val_std,y_val)\n",
    "\n",
    "X_train_under, y_train_under = BorderlineSMOTE(random_state=42).fit_sample(X_train_std,y_train)\n",
    "X_val_under, y_val_under = BorderlineSMOTE(random_state=42).fit_sample(X_val_std,y_val)\n",
    "\n",
    "#X_train_under, y_train_under = ADASYN(random_state=42).fit_sample(X_train_std,y_train)\n",
    "#X_val_under, y_val_under = ADASYN(random_state=42).fit_sample(X_val_std,y_val)"
   ]
  },
  {
   "cell_type": "code",
   "execution_count": 164,
   "metadata": {
    "scrolled": true
   },
   "outputs": [
    {
     "name": "stdout",
     "output_type": "stream",
     "text": [
      "Fitting 5 folds for each of 10 candidates, totalling 50 fits\n"
     ]
    },
    {
     "name": "stderr",
     "output_type": "stream",
     "text": [
      "[Parallel(n_jobs=-1)]: Using backend LokyBackend with 4 concurrent workers.\n",
      "[Parallel(n_jobs=-1)]: Done   5 tasks      | elapsed:    3.6s\n",
      "[Parallel(n_jobs=-1)]: Done  10 tasks      | elapsed:    4.1s\n",
      "[Parallel(n_jobs=-1)]: Done  17 tasks      | elapsed:    4.9s\n",
      "[Parallel(n_jobs=-1)]: Done  24 tasks      | elapsed:    5.5s\n",
      "[Parallel(n_jobs=-1)]: Done  33 tasks      | elapsed:    6.6s\n",
      "[Parallel(n_jobs=-1)]: Done  42 tasks      | elapsed:    7.5s\n",
      "[Parallel(n_jobs=-1)]: Done  50 out of  50 | elapsed:    8.2s finished\n"
     ]
    },
    {
     "data": {
      "text/plain": [
       "GridSearchCV(cv=5, error_score=nan,\n",
       "             estimator=LogisticRegression(C=1.0, class_weight=None, dual=False,\n",
       "                                          fit_intercept=True,\n",
       "                                          intercept_scaling=1, l1_ratio=None,\n",
       "                                          max_iter=10000, multi_class='auto',\n",
       "                                          n_jobs=None, penalty='l2',\n",
       "                                          random_state=None, solver='lbfgs',\n",
       "                                          tol=0.0001, verbose=0,\n",
       "                                          warm_start=False),\n",
       "             iid='deprecated', n_jobs=-1,\n",
       "             param_grid={'C': array([1.00000000e+00, 2.15443469e+01, 4.64158883e+02, 1.00000000e+04,\n",
       "       2.15443469e+05, 4.64158883e+06, 1.00000000e+08, 2.15443469e+09,\n",
       "       4.64158883e+10, 1.00000000e+12]),\n",
       "                         'penalty': ['l2']},\n",
       "             pre_dispatch='2*n_jobs', refit=True, return_train_score=False,\n",
       "             scoring='roc_auc', verbose=10)"
      ]
     },
     "execution_count": 164,
     "metadata": {},
     "output_type": "execute_result"
    }
   ],
   "source": [
    "# Run CV with 5 folds (logit)\n",
    "from sklearn.linear_model import LogisticRegression\n",
    "from sklearn.model_selection import GridSearchCV\n",
    "penalty = ['l2']\n",
    "C = np.logspace(0, 4, 10, 100, 1000)\n",
    "param_grid = dict(C=C, penalty=penalty)\n",
    "\n",
    "logistic = LogisticRegression(solver='lbfgs', max_iter=10000)\n",
    "logistic_grid = GridSearchCV(logistic, param_grid, cv=5, scoring='roc_auc', verbose=10, n_jobs=-1)\n",
    "logistic_grid.fit(X_train_under, y_train_under)"
   ]
  },
  {
   "cell_type": "code",
   "execution_count": 165,
   "metadata": {},
   "outputs": [
    {
     "name": "stdout",
     "output_type": "stream",
     "text": [
      "Fitting 5 folds for each of 10 candidates, totalling 50 fits\n"
     ]
    },
    {
     "name": "stderr",
     "output_type": "stream",
     "text": [
      "[Parallel(n_jobs=-1)]: Using backend LokyBackend with 4 concurrent workers.\n",
      "[Parallel(n_jobs=-1)]: Done   5 tasks      | elapsed:    0.8s\n",
      "[Parallel(n_jobs=-1)]: Done  10 tasks      | elapsed:    1.3s\n",
      "[Parallel(n_jobs=-1)]: Done  17 tasks      | elapsed:    2.1s\n",
      "[Parallel(n_jobs=-1)]: Done  24 tasks      | elapsed:    2.7s\n",
      "[Parallel(n_jobs=-1)]: Done  33 tasks      | elapsed:    4.0s\n",
      "[Parallel(n_jobs=-1)]: Done  42 tasks      | elapsed:    5.0s\n",
      "[Parallel(n_jobs=-1)]: Done  50 out of  50 | elapsed:    5.6s finished\n"
     ]
    },
    {
     "name": "stdout",
     "output_type": "stream",
     "text": [
      "Best Parameters {'C': 1.0, 'penalty': 'l2'}\n",
      "Best Penalty: l2\n",
      "Best C: 1.0\n",
      "----------------------------------------------------------------------\n",
      "0.901 (+/-0.005) for {'C': 1.0, 'penalty': 'l2'}\n",
      "0.901 (+/-0.005) for {'C': 21.544346900318832, 'penalty': 'l2'}\n",
      "0.901 (+/-0.005) for {'C': 464.15888336127773, 'penalty': 'l2'}\n",
      "0.901 (+/-0.005) for {'C': 9999.999999999995, 'penalty': 'l2'}\n",
      "0.901 (+/-0.005) for {'C': 215443.46900318822, 'penalty': 'l2'}\n",
      "0.901 (+/-0.005) for {'C': 4641588.833612782, 'penalty': 'l2'}\n",
      "0.901 (+/-0.005) for {'C': 99999999.9999999, 'penalty': 'l2'}\n",
      "0.901 (+/-0.005) for {'C': 2154434690.031878, 'penalty': 'l2'}\n",
      "0.901 (+/-0.005) for {'C': 46415888336.12772, 'penalty': 'l2'}\n",
      "0.901 (+/-0.005) for {'C': 1000000000000.0, 'penalty': 'l2'}\n"
     ]
    }
   ],
   "source": [
    "best_model=logistic_grid.fit(X_train_under, y_train_under)\n",
    "print('Best Parameters',logistic_grid.best_params_)\n",
    "print('Best Penalty:', best_model.best_estimator_.get_params()['penalty'])\n",
    "print('Best C:', best_model.best_estimator_.get_params()['C'])\n",
    "print(\"-------\"*10)\n",
    "means = logistic_grid.cv_results_['mean_test_score']\n",
    "stds = logistic_grid.cv_results_['std_test_score']\n",
    "for mean, std, params in zip(means, stds, logistic_grid.cv_results_['params']):\n",
    "        print(\"%0.3f (+/-%0.03f) for %r\"\n",
    "            % (mean, std * 2, params))"
   ]
  },
  {
   "cell_type": "code",
   "execution_count": 166,
   "metadata": {},
   "outputs": [],
   "source": [
    "# Fit a Naive Bayes Model\n",
    "\n",
    "from sklearn.naive_bayes import GaussianNB\n",
    "gnb = GaussianNB()\n",
    "gnb_best = gnb.fit(X_train_under, y_train_under)"
   ]
  },
  {
   "cell_type": "code",
   "execution_count": 167,
   "metadata": {},
   "outputs": [],
   "source": [
    "import sklearn.metrics as metrics\n",
    "def roc_scores(X_value, Y_value):\n",
    "    #in sample\n",
    "    model_list = [logistic_grid.best_estimator_, \n",
    "#                   svm_grid.best_estimator_, \n",
    "                  #gnb_best,\n",
    "                #  rf_grid.best_estimator_,\n",
    "                 # dummy\n",
    "                 ]\n",
    "\n",
    "    model_name = ['Logit','Naive Bayes']\n",
    "\n",
    "    # Plot ROC curve for all my models\n",
    "    fig, ax = plt.subplots(figsize=(5,5))\n",
    "    for i, model in enumerate(model_list):\n",
    "        y_pred = list(model.predict_proba(X_value)[:,1])\n",
    "        fpr, tpr, threshold = metrics.roc_curve(Y_value, y_pred)\n",
    "        roc_auc = metrics.auc(fpr, tpr)\n",
    "        plt.plot(fpr, tpr, label = (model_name[i] + ' AUC = %0.4f' % roc_auc),linewidth=2.0)\n",
    "    ax.grid(False)\n",
    "    ax.tick_params(length=6, width=2,labelsize = 30,\n",
    "                   grid_color='r', grid_alpha=0.5)\n",
    "    # plt.legend(loc = 'lower right',prop={'size': 25})\n",
    "    leg = plt.legend(loc = 'lower right',prop={'size': 25})\n",
    "    leg.get_frame().set_edgecolor('b')\n",
    "    plt.title('Receiver Operating Characteristic (ROC)', FontSize=30)\n",
    "    plt.plot([0, 1], [0, 1], 'r--')\n",
    "    plt.xlim([-.02, 1.02])\n",
    "    plt.ylim([-.02, 1.02])\n",
    "    plt.ylabel('True Positive Rate',FontSize=30)\n",
    "    plt.xlabel('False Positive Rate',FontSize=30)\n",
    "    plt.show()"
   ]
  },
  {
   "cell_type": "code",
   "execution_count": 168,
   "metadata": {
    "scrolled": true
   },
   "outputs": [
    {
     "data": {
      "image/png": "[encoded data removed]",
      "text/plain": [
       "<Figure size 360x360 with 1 Axes>"
      ]
     },
     "metadata": {
      "needs_background": "light"
     },
     "output_type": "display_data"
    }
   ],
   "source": [
    "#in sample\n",
    "roc_scores(X_val_under,y_val_under)"
   ]
  },
  {
   "cell_type": "code",
   "execution_count": 169,
   "metadata": {},
   "outputs": [
    {
     "data": {
      "image/png": "[encoded data removed]",
      "text/plain": [
       "<Figure size 360x360 with 1 Axes>"
      ]
     },
     "metadata": {
      "needs_background": "light"
     },
     "output_type": "display_data"
    }
   ],
   "source": [
    "#out of sample\n",
    "roc_scores(X_test_std,y_test)"
   ]
  },
  {
   "cell_type": "code",
   "execution_count": 170,
   "metadata": {},
   "outputs": [],
   "source": [
    "def find_best_threshold(model, int_num_steps):\n",
    "    highest_f1 = 0\n",
    "    best_threshold = 0\n",
    "    for threshold in np.linspace (0, 1, int_num_steps):\n",
    "        y_predict = (model.predict_proba(X_val_under)[:, 1] >= threshold) \n",
    "        f1 = f1_score(y_val_under,y_predict)\n",
    "        acc = accuracy_score(y_val_under,y_predict)\n",
    "        rec = recall_score(y_val_under,y_predict)\n",
    "        pre = precision_score(y_val_under,y_predict)\n",
    "        if f1 > highest_f1:\n",
    "            best_threshold, highest_f1, best_acc, best_rec, best_pre  = \\\n",
    "                threshold, f1, acc, rec, pre\n",
    "    return best_threshold, highest_f1, best_acc, best_rec, best_pre"
   ]
  },
  {
   "cell_type": "code",
   "execution_count": 171,
   "metadata": {},
   "outputs": [
    {
     "name": "stderr",
     "output_type": "stream",
     "text": [
      "/Users/monalisa/anaconda3/lib/python3.7/site-packages/sklearn/metrics/_classification.py:1272: UndefinedMetricWarning: Precision is ill-defined and being set to 0.0 due to no predicted samples. Use `zero_division` parameter to control this behavior.\n",
      "  _warn_prf(average, modifier, msg_start, len(result))\n"
     ]
    }
   ],
   "source": [
    "from sklearn.metrics import roc_auc_score,precision_score, recall_score, precision_recall_curve,f1_score, fbeta_score, accuracy_score\n",
    "models = [logistic_grid]\n",
    "model_names = [\"Logistic Regression\"]\n",
    "chart = list()\n",
    "for item,name in zip(models,model_names):\n",
    "    best_thresh, high_f1, high_acc, high_rec, high_pre = find_best_threshold(item,20)\n",
    "#     print(f'Results for {name}:')\n",
    "#     print('Best Threshold: ', best_thresh)\n",
    "#     print('Highest_f1: ', high_f1)\n",
    "    chart.append([name, best_thresh, high_f1, high_acc, high_rec, high_pre])"
   ]
  },
  {
   "cell_type": "code",
   "execution_count": 172,
   "metadata": {},
   "outputs": [],
   "source": [
    "chart = pd.DataFrame(chart, columns=['Model', 'Best Threshhold','F1 Score','Accuracy','Recall','Precision'])"
   ]
  },
  {
   "cell_type": "code",
   "execution_count": 173,
   "metadata": {},
   "outputs": [
    {
     "data": {
      "text/html": [
       "<div>\n",
       "<style scoped>\n",
       "    .dataframe tbody tr th:only-of-type {\n",
       "        vertical-align: middle;\n",
       "    }\n",
       "\n",
       "    .dataframe tbody tr th {\n",
       "        vertical-align: top;\n",
       "    }\n",
       "\n",
       "    .dataframe thead th {\n",
       "        text-align: right;\n",
       "    }\n",
       "</style>\n",
       "<table border=\"1\" class=\"dataframe\">\n",
       "  <thead>\n",
       "    <tr style=\"text-align: right;\">\n",
       "      <th></th>\n",
       "      <th>Model</th>\n",
       "      <th>Best Threshhold</th>\n",
       "      <th>F1 Score</th>\n",
       "      <th>Accuracy</th>\n",
       "      <th>Recall</th>\n",
       "      <th>Precision</th>\n",
       "    </tr>\n",
       "  </thead>\n",
       "  <tbody>\n",
       "    <tr>\n",
       "      <th>0</th>\n",
       "      <td>Logistic Regression</td>\n",
       "      <td>0.578947</td>\n",
       "      <td>0.907123</td>\n",
       "      <td>0.907077</td>\n",
       "      <td>0.907574</td>\n",
       "      <td>0.906672</td>\n",
       "    </tr>\n",
       "  </tbody>\n",
       "</table>\n",
       "</div>"
      ],
      "text/plain": [
       "                 Model  Best Threshhold  F1 Score  Accuracy    Recall  \\\n",
       "0  Logistic Regression         0.578947  0.907123  0.907077  0.907574   \n",
       "\n",
       "   Precision  \n",
       "0   0.906672  "
      ]
     },
     "execution_count": 173,
     "metadata": {},
     "output_type": "execute_result"
    }
   ],
   "source": [
    "#BorderlineSMOTE\n",
    "chart"
   ]
  },
  {
   "cell_type": "code",
   "execution_count": 187,
   "metadata": {},
   "outputs": [],
   "source": [
    "def make_confusion_matrix_val(model, threshold=0.5):\n",
    "    # Predict class 1 if probability of being in class 1 is greater than threshold\n",
    "    # (model.predict(X_test) does this automatically with a threshold of 0.5)\n",
    "    \n",
    "    y_predict = (model.predict_proba(X_val_under)[:, 1] >= threshold)\n",
    "    fraud_confusion = confusion_matrix(y_val_under, y_predict)\n",
    "    plt.figure(dpi=50)\n",
    "    sns.set(font_scale=1)\n",
    "    sns.heatmap(fraud_confusion, cmap=plt.cm.Blues, annot=True, square=True, fmt='d',\n",
    "           xticklabels=['Normal', 'BankRupt'],\n",
    "           yticklabels=['Normal', 'BankRupt']);\n",
    "    TP = fraud_confusion[0][0]\n",
    "    FP = fraud_confusion[0][1]\n",
    "    FN = fraud_confusion[1][0]\n",
    "    TN = fraud_confusion[1][1]\n",
    "    plt.yticks(rotation = 0)\n",
    "    plt.title('Predicted vs. Actual',fontname = '.SF Compact Display',fontsize = 20,pad = 10);\n",
    "    plt.xlabel('Predicted')\n",
    "    plt.ylabel('Actual')\n",
    "   "
   ]
  },
  {
   "cell_type": "code",
   "execution_count": 181,
   "metadata": {
    "scrolled": true
   },
   "outputs": [],
   "source": [
    "#fixed confusion matrix - random forest, validation\n",
    "#make_confusion_matrix_val(rf_grid, threshold=0.421)"
   ]
  },
  {
   "cell_type": "code",
   "execution_count": 188,
   "metadata": {},
   "outputs": [
    {
     "data": {
      "image/png": "[encoded data removed]",
      "text/plain": [
       "<Figure size 700x400 with 2 Axes>"
      ]
     },
     "metadata": {},
     "output_type": "display_data"
    }
   ],
   "source": [
    "#fixed confusion matrix - logit, validation\n",
    "from sklearn.metrics import confusion_matrix\n",
    "make_confusion_matrix_val(logistic_grid, threshold=0.842)"
   ]
  },
  {
   "cell_type": "code",
   "execution_count": 177,
   "metadata": {},
   "outputs": [],
   "source": [
    "def make_confusion_matrix_test(model, threshold=0.5):\n",
    "    # Predict class 1 if probability of being in class 1 is greater than threshold\n",
    "    # (model.predict(X_test) does this automatically with a threshold of 0.5)\n",
    "    y_predict = (model.predict_proba(X_test_std)[:, 1] >= threshold)\n",
    "    fraud_confusion = confusion_matrix(y_test, y_predict)\n",
    "    plt.figure(dpi=50)\n",
    "    sns.set(font_scale=1)\n",
    "    sns.heatmap(fraud_confusion, cmap=plt.cm.Blues, annot=True, square=True, fmt='d',\n",
    "           xticklabels=['Normal', 'BankRupt'],\n",
    "           yticklabels=['Normal', 'BankRupt']);\n",
    "    TP = fraud_confusion[0][0]\n",
    "    FP = fraud_confusion[0][1]\n",
    "    FN = fraud_confusion[1][0]\n",
    "    TN = fraud_confusion[1][1]\n",
    "    plt.yticks(rotation = 0)\n",
    "    plt.title('Predicted vs. Actual',fontname = '.SF Compact Display',fontsize = 20,pad = 10);\n",
    "    plt.xlabel('Predicted')\n",
    "    plt.ylabel('Actual')"
   ]
  },
  {
   "cell_type": "code",
   "execution_count": 178,
   "metadata": {
    "scrolled": true
   },
   "outputs": [],
   "source": [
    "#fixed confusion matrix - random forest, test\n",
    "#make_confusion_matrix_test(rf_grid, threshold=0.421)"
   ]
  },
  {
   "cell_type": "code",
   "execution_count": 179,
   "metadata": {
    "scrolled": true
   },
   "outputs": [
    {
     "data": {
      "image/png": "[encoded data removed]",
      "text/plain": [
       "<Figure size 700x400 with 2 Axes>"
      ]
     },
     "metadata": {},
     "output_type": "display_data"
    }
   ],
   "source": [
    "#fixed confusion matrix - logit, test\n",
    "make_confusion_matrix_test(logistic_grid, threshold=0.842)"
   ]
  },
  {
   "cell_type": "code",
   "execution_count": null,
   "metadata": {},
   "outputs": [],
   "source": []
  },
  {
   "cell_type": "code",
   "execution_count": null,
   "metadata": {},
   "outputs": [],
   "source": []
  }
 ],
 "metadata": {
  "kernelspec": {
   "display_name": "Python 3",
   "language": "python",
   "name": "python3"
  },
  "language_info": {
   "codemirror_mode": {
    "name": "ipython",
    "version": 3
   },
   "file_extension": ".py",
   "mimetype": "text/x-python",
   "name": "python",
   "nbconvert_exporter": "python",
   "pygments_lexer": "ipython3",
   "version": "3.7.3"
  }
 },
 "nbformat": 4,
 "nbformat_minor": 2
}
